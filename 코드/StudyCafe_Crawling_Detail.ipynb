{
 "cells": [
  {
   "cell_type": "code",
   "execution_count": 1,
   "metadata": {},
   "outputs": [],
   "source": [
    "#!pip install selenium\n",
    "import re\n",
    "import bs4\n",
    "import time\n",
    "import os\n",
    "import pandas as pd\n",
    "import numpy as np\n",
    "import datetime\n",
    "from selenium.webdriver.common.keys import Keys\n",
    "from selenium import webdriver"
   ]
  },
  {
   "cell_type": "code",
   "execution_count": 40,
   "metadata": {},
   "outputs": [],
   "source": [
    "my_driver = webdriver.Chrome('chromedriver.exe')"
   ]
  },
  {
   "cell_type": "code",
   "execution_count": 47,
   "metadata": {},
   "outputs": [],
   "source": [
    "my_driver.get(\"https://hakwon.sen.go.kr/edusys.jsp?page=scs_m83000\")"
   ]
  },
  {
   "cell_type": "code",
   "execution_count": 2,
   "metadata": {},
   "outputs": [
    {
     "ename": "NameError",
     "evalue": "name 'my_driver' is not defined",
     "output_type": "error",
     "traceback": [
      "\u001b[1;31m---------------------------------------------------------------------------\u001b[0m",
      "\u001b[1;31mNameError\u001b[0m                                 Traceback (most recent call last)",
      "\u001b[1;32m<ipython-input-2-f95f7622f1b2>\u001b[0m in \u001b[0;36m<module>\u001b[1;34m\u001b[0m\n\u001b[1;32m----> 1\u001b[1;33m \u001b[0mprint\u001b[0m\u001b[1;33m(\u001b[0m\u001b[0mmy_driver\u001b[0m\u001b[1;33m.\u001b[0m\u001b[0mcurrent_url\u001b[0m\u001b[1;33m)\u001b[0m\u001b[1;33m\u001b[0m\u001b[1;33m\u001b[0m\u001b[0m\n\u001b[0m",
      "\u001b[1;31mNameError\u001b[0m: name 'my_driver' is not defined"
     ]
    }
   ],
   "source": [
    "print(my_driver.current_url)"
   ]
  },
  {
   "cell_type": "code",
   "execution_count": 49,
   "metadata": {},
   "outputs": [
    {
     "name": "stdout",
     "output_type": "stream",
     "text": [
      "['강남구', '강동구', '강북구', '강서구', '관악구', '광진구']\n"
     ]
    }
   ],
   "source": [
    "my_gu = my_driver.find_element_by_css_selector(\"#selSearchZoneCode\")\n",
    "my_gu_list = my_gu.text.split()[:6]\n",
    "print(my_gu_list)\n",
    "n_gus = len(my_gu_list)"
   ]
  },
  {
   "cell_type": "code",
   "execution_count": 50,
   "metadata": {},
   "outputs": [],
   "source": [
    "my_gu = my_driver.find_element_by_css_selector(\"#selSearchZoneCode\")\n",
    "my_gu.send_keys(my_gu_list[0])\n",
    "kind = my_driver.find_element_by_css_selector('#selSearchKindCode')\n",
    "kind.send_keys(\"학교교과교습학원\")\n",
    "time.sleep(1)\n",
    "typecode  = my_driver.find_element_by_css_selector('#selSearchTypeCode')\n",
    "typecode.send_keys(\"독서실\")\n",
    "time.sleep(1)\n",
    "search = my_driver.find_element_by_css_selector('#btn_search')\n",
    "search.click()\n",
    "time.sleep(1)\n",
    "download = my_driver.find_element_by_css_selector('#btnExport')\n",
    "download.click() \n",
    "time.sleep(1)"
   ]
  },
  {
   "cell_type": "code",
   "execution_count": 51,
   "metadata": {},
   "outputs": [],
   "source": [
    "#나머지 페이지\n",
    "i = 1 \n",
    "while True :\n",
    "    try :\n",
    "        i += 1\n",
    "        lst = my_driver.find_element_by_css_selector(\"#paglPg_page_\" + str(i))\n",
    "        lst.click()\n",
    "        time.sleep(1)\n",
    "        download = my_driver.find_element_by_css_selector('#btnExport').send_keys(Keys.ENTER)\n",
    "        time.sleep(1)\n",
    "    except : \n",
    "        break \n",
    "    if (i% 10) == 0 :\n",
    "        nxt = my_driver.find_element_by_css_selector(\"#paglPg_next_btn\")\n",
    "        nxt.click()\n",
    "        time.sleep(1)"
   ]
  },
  {
   "cell_type": "code",
   "execution_count": 52,
   "metadata": {},
   "outputs": [],
   "source": [
    "for x in range(n_gus) :\n",
    "    my_gu = my_driver.find_element_by_css_selector(\"#selSearchZoneCode\")\n",
    "    if (x != 0):\n",
    "        my_gu.send_keys(Keys.DOWN)\n",
    "        search = my_driver.find_element_by_css_selector('#btn_search').send_keys(Keys.ENTER)\n",
    "        time.sleep(1)\n",
    "        download = my_driver.find_element_by_css_selector('#btnExport').send_keys(Keys.ENTER)\n",
    "        i = 1\n",
    "        while True :\n",
    "            try :\n",
    "                i += 1\n",
    "                lst = my_driver.find_element_by_css_selector(\"#paglPg_page_\" + str(i))\n",
    "                lst.click()\n",
    "                time.sleep(1)\n",
    "                download = my_driver.find_element_by_css_selector('#btnExport').send_keys(Keys.ENTER)\n",
    "                time.sleep(1)\n",
    "            except : \n",
    "                break \n",
    "            if (i% 10) == 0 :\n",
    "                nxt = my_driver.find_element_by_css_selector(\"#paglPg_next_btn\")\n",
    "                nxt.click()\n",
    "                time.sleep(1)"
   ]
  },
  {
   "cell_type": "code",
   "execution_count": 53,
   "metadata": {},
   "outputs": [],
   "source": [
    "my_driver.close()"
   ]
  },
  {
   "cell_type": "code",
   "execution_count": 157,
   "metadata": {},
   "outputs": [
    {
     "name": "stdout",
     "output_type": "stream",
     "text": [
      "141\n"
     ]
    }
   ],
   "source": [
    "#엑셀 파일 이름 모으기 \n",
    "os.chdir(r\"C:\\Users\\pudding\\Downloads\")\n",
    "file_list = os.listdir()\n",
    "my_excel_files = []\n",
    "for x in file_list :\n",
    "    if x[-3:] == 'xls' and x[:5] == 'excel' :\n",
    "        my_excel_files += [x] \n",
    "\n",
    "print(len(my_excel_files))"
   ]
  },
  {
   "cell_type": "code",
   "execution_count": 194,
   "metadata": {},
   "outputs": [],
   "source": [
    "# 읽어 들여서 하나의 데이터 프레임으로 통합한다.\n",
    "n_excels = len(my_excel_files)\n",
    "for i in range(n_excels):  \n",
    "    a_df = pd.read_excel(my_excel_files[i],header=4, na_values = [' ', '-'])\n",
    "    if i == 0:\n",
    "        df = a_df\n",
    "    else:\n",
    "        df = pd.concat([df,a_df], axis=0, ignore_index=True)"
   ]
  },
  {
   "cell_type": "code",
   "execution_count": 195,
   "metadata": {},
   "outputs": [
    {
     "data": {
      "text/plain": [
       "순번                  0\n",
       "학원명                 0\n",
       "설립자\\n강사             0\n",
       "교습\\n과정              0\n",
       "교습\\n과목              0\n",
       "정원                  0\n",
       "교습\\n기간             12\n",
       "총교습시간\\n(분)         12\n",
       "기숙사비               12\n",
       "피복비                12\n",
       "차량비                12\n",
       "적용일\\n(최종교습비변경일)     0\n",
       "dtype: int64"
      ]
     },
     "execution_count": 195,
     "metadata": {},
     "output_type": "execute_result"
    }
   ],
   "source": [
    "(df.isnull()).sum(axis=0)"
   ]
  },
  {
   "cell_type": "code",
   "execution_count": 198,
   "metadata": {},
   "outputs": [],
   "source": [
    "df.dropna(axis=0, inplace=True)"
   ]
  },
  {
   "cell_type": "code",
   "execution_count": null,
   "metadata": {},
   "outputs": [],
   "source": []
  },
  {
   "cell_type": "code",
   "execution_count": 201,
   "metadata": {
    "scrolled": true
   },
   "outputs": [],
   "source": [
    "df = df[df[\"적용일\\n(최종교습비변경일)\"]>'2018.01.01']\n",
    "#df[\"기숙사비\"] = df[\"기숙사비\"].apply(lambda x: str(x).lstrip())\n",
    "df[\"기숙사비\"] = df[\"기숙사비\"].str.lstrip()\n",
    "#df.groupby(\"학원비\")\n",
    "#df.astype({\"기숙사비\":int})\n",
    "#df[df.iloc[:,8] != 0]\n",
    "df = df[df[\"기숙사비\"] != '0'] "
   ]
  },
  {
   "cell_type": "code",
   "execution_count": 202,
   "metadata": {},
   "outputs": [],
   "source": [
    "df.to_excel(excel_writer='output.xls')"
   ]
  },
  {
   "cell_type": "code",
   "execution_count": null,
   "metadata": {},
   "outputs": [],
   "source": []
  }
 ],
 "metadata": {
  "kernelspec": {
   "display_name": "Python 3",
   "language": "python",
   "name": "python3"
  },
  "language_info": {
   "codemirror_mode": {
    "name": "ipython",
    "version": 3
   },
   "file_extension": ".py",
   "mimetype": "text/x-python",
   "name": "python",
   "nbconvert_exporter": "python",
   "pygments_lexer": "ipython3",
   "version": "3.8.5"
  }
 },
 "nbformat": 4,
 "nbformat_minor": 4
}
