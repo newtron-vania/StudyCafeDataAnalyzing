{
 "cells": [
  {
   "cell_type": "code",
   "execution_count": 1,
   "metadata": {},
   "outputs": [],
   "source": [
    "import requests\n",
    "from bs4 import BeautifulSoup\n",
    "from selenium import webdriver\n",
    "from selenium.webdriver.common.keys import Keys\n",
    "import bs4\n",
    "\n",
    "RANK = 100 ## 멜론 차트 순위가 1 ~ 100위까지 있음\n",
    "    \n",
    "url = 'https://www.melon.com/chart/month/index.htm'\n"
   ]
  },
  {
   "cell_type": "code",
   "execution_count": 2,
   "metadata": {},
   "outputs": [],
   "source": [
    "my_driver = webdriver.Chrome('chromedriver.exe') "
   ]
  },
  {
   "cell_type": "code",
   "execution_count": 3,
   "metadata": {},
   "outputs": [],
   "source": [
    "my_driver.get(url)"
   ]
  },
  {
   "cell_type": "code",
   "execution_count": 4,
   "metadata": {},
   "outputs": [],
   "source": [
    "res = my_driver.find_element_by_css_selector('div.time_layer')\n",
    "res.click()\n"
   ]
  },
  {
   "cell_type": "code",
   "execution_count": 10,
   "metadata": {},
   "outputs": [],
   "source": [
    "res = my_driver.find_element_by_link_text('2월')\n",
    "res.click()"
   ]
  },
  {
   "cell_type": "code",
   "execution_count": 6,
   "metadata": {},
   "outputs": [],
   "source": [
    "html = my_driver.page_source\n",
    "parse = BeautifulSoup(html, 'html.parser')"
   ]
  },
  {
   "cell_type": "code",
   "execution_count": 13,
   "metadata": {},
   "outputs": [],
   "source": [
    "titles = parse.find_all(\"div\", {\"class\": \"ellipsis rank01\"}) \n",
    "singers = parse.find_all(\"div\", {\"class\": \"ellipsis rank02\"}) \n",
    "albums = parse.find_all(\"div\",{\"class\": \"ellipsis rank03\"})"
   ]
  },
  {
   "cell_type": "code",
   "execution_count": 14,
   "metadata": {},
   "outputs": [],
   "source": [
    "title = []\n",
    "singer = []\n",
    "album = []\n",
    " \n",
    "for t in titles:\n",
    "    title.append(t.find('a').text)\n",
    " \n",
    "for s in singers:\n",
    "    singer.append(s.find('span', {\"class\": \"checkEllipsis\"}).text)\n",
    "\n",
    "for a in albums:\n",
    "    album.append(a.find('a').text)"
   ]
  },
  {
   "cell_type": "code",
   "execution_count": 15,
   "metadata": {},
   "outputs": [
    {
     "name": "stdout",
     "output_type": "stream",
     "text": [
      "  1위: VVS (Feat. JUSTHIS) (Prod. GroovyRoom) [ 쇼미더머니 9 Episode 1 ] - 미란이 (Mirani), 먼치맨(MUNCHMAN), Khundi Panda, 머쉬베놈 (MUSHVENOM)\n",
      "  2위: 밤하늘의 별을(2020) [ 밤하늘의 별을(2020) ] - 경서\n",
      "  3위: Dynamite [ Dynamite (DayTime Version) ] - 방탄소년단\n",
      "  4위: 잠이 오질 않네요 [ 잠이 오질 않네요 ] - 장범준\n",
      "  5위: Lovesick Girls [ THE ALBUM ] - BLACKPINK\n",
      "  6위: 취기를 빌려 (취향저격 그녀 X 산들) [ 취기를 빌려 (취향저격 그녀 X 산들) ] - 산들\n",
      "  7위: 힘든 건 사랑이 아니다 [ 힘든 건 사랑이 아니다 ] - 임창정\n",
      "  8위: 내일이 오면 (Feat. 기리보이, BIG Naughty (서동현)) [ 쇼미더머니 9 Episode 3 ] - 릴보이 (lIlBOI)\n",
      "  9위: Life Goes On [ BE ] - 방탄소년단\n",
      " 10위: 오래된 노래 [ 오래된 노래 ] - 스탠딩 에그\n",
      " 11위: Savage Love (Laxed - Siren Beat) (BTS Remix) [ Savage Love (Laxed - Siren Beat) [BTS Remix] ] - Jawsh 685, Jason Derulo, 방탄소년단\n",
      " 12위: 내 마음이 움찔했던 순간 (취향저격 그녀 X 규현) [ 내 마음이 움찔했던 순간 (취향저격 그녀 X 규현) ] - 규현 (KYUHYUN)\n",
      " 13위: 에잇(Prod.&Feat. SUGA of BTS) [ 에잇 ] - 아이유\n",
      " 14위: 나랑 같이 걸을래 (바른연애 길잡이 X 적재) [ 나랑 같이 걸을래 (바른연애 길잡이 X 적재) ] - 적재\n",
      " 15위: CREDIT (Feat. 염따, 기리보이, Zion.T) [ 쇼미더머니 9 Final ] - 릴보이 (lIlBOI)\n",
      " 16위: 어떻게 이별까지 사랑하겠어, 널 사랑하는 거지 [ 항해 ] - AKMU (악동뮤지션)\n",
      " 17위: 혼술하고 싶은 밤 [ 혼술하고 싶은 밤 ] - 벤\n",
      " 18위: 흔들리는 꽃들 속에서 네 샴푸향이 느껴진거야 [ 멜로가 체질 OST Part 3 ] - 장범준\n",
      " 19위: When We Disco (Duet with 선미) [ When We Disco ] - 박진영\n",
      " 20위: Blueming [ Love poem ] - 아이유\n",
      " 21위: 늦은 밤 너의 집 앞 골목길에서 [ 늦은 밤 너의 집 앞 골목길에서 ] - 노을\n",
      " 22위: Achoo (Feat. pH-1, HAON) (Prod. GroovyRoom) [ 쇼미더머니 9 Episode 3 ] - 미란이 (Mirani)\n",
      " 23위: 어떻게 지내 (Prod. By VAN.C) [ 어떻게 지내 ] - 오반 (OVAN)\n",
      " 24위: 모든 날, 모든 순간 (Every day, Every Moment) [ '키스 먼저 할까요?' OST Part.3 ] - 폴킴\n",
      " 25위: How You Like That [ How You Like That ] - BLACKPINK\n",
      " 26위: METEOR [ Boyhood ] - 창모 (CHANGMO)\n",
      " 27위: 아로하 [ 슬기로운 의사생활 OST Part 3 ] - 조정석\n",
      " 28위: Freak (Prod. Slom) [ 쇼미더머니 9 Episode 1 ] - 릴보이 (lIlBOI), 원슈타인, Chillin Homie, 스카이민혁 (Skyminhyuk)\n",
      " 29위: 사실 나는 (Feat.전건호) [ 사실 나는 ] - 경서예지\n",
      " 30위: 서면역에서 [ 서면역에서 ] - 순순희\n",
      " 31위: Dolphin [ NONSTOP ] - 오마이걸 (OH MY GIRL)\n",
      " 32위: ON AIR (Feat. 로꼬, 박재범 & GRAY) [ 쇼미더머니 9 Final ] - 릴보이 (lIlBOI)\n",
      " 33위: 딩가딩가 (Dingga) [ 딩가딩가 (Dingga) ] - 마마무 (Mamamoo)\n",
      " 34위: 마음을 드려요 [ 사랑의 불시착 OST Part 11 ] - 아이유\n",
      " 35위: 뿌리 (Feat. JUSTHIS) (Prod. GroovyRoom) [ 쇼미더머니 9 Episode 3 ] - Khundi Panda\n",
      " 36위: 그날에 나는 맘이 편했을까 [ 그날에 나는 맘이 편했을까 ] - 이예준\n",
      " 37위: 오늘도 빛나는 너에게 (To You My Light) (Feat.이라온) [ Red Moon : To You My Light ] - 마크툽 (MAKTUB)\n",
      " 38위: 작은 것들을 위한 시 (Boy With Luv) (Feat. Halsey) [ MAP OF THE SOUL : PERSONA ] - 방탄소년단\n",
      " 39위: DON'T TOUCH ME [ DON'T TOUCH ME ] - 환불원정대\n",
      " 40위: 거짓말이라도 해서 널 보고싶어 [ 거짓말이라도 해서 널 보고싶어 ] - 백지영\n",
      " 41위: Memories [ Memories ] - Maroon 5\n",
      " 42위: 2002 [ Speak Your Mind (Deluxe) ] - Anne-Marie\n",
      " 43위: I CAN’T STOP ME [ Eyes wide open ] - TWICE (트와이스)\n",
      " 44위: 우리 왜 헤어져야 해 [ 우리 왜 헤어져야 해 ] - 신예영\n",
      " 45위: 마리아 (Maria) [ María ] - 화사 (Hwa Sa)\n",
      " 46위: 시작 [ 이태원 클라쓰 OST Part.2 ] - 가호 (Gaho)\n",
      " 47위: 악역 (Feat. 이하이 & 사이먼 도미닉) (Prod. 코드 쿤스트) [ 쇼미더머니 9 Semi Final ] - 스윙스\n",
      " 48위: 사랑은 지날수록 더욱 선명하게 남아 [ 한 걸음 : 흔적 ] - 전상근\n",
      " 49위: 화(火花) [ I burn ] - (여자)아이들\n",
      " 50위: 봄날 [ YOU NEVER WALK ALONE ] - 방탄소년단\n",
      " 51위: 홀로 [ 홀로 ] - 이하이\n",
      " 52위: 살짝 설렜어 (Nonstop) [ NONSTOP ] - 오마이걸 (OH MY GIRL)\n",
      " 53위: Celebrity [ IU 5th Album 'LILAC' ] - 아이유\n",
      " 54위: 한잔이면 지워질까 [ 한잔이면 지워질까 ] - 황인욱\n",
      " 55위: 뻔한남자 [ 뻔한남자 ] - 이승기\n",
      " 56위: Dance Monkey [ The Kids Are Coming ] - Tones And I\n",
      " 57위: 눈누난나 (NUNU NANA) [ NUNA ] - 제시 (Jessi)\n",
      " 58위: Downtown Baby [ Downtown Baby ] - 블루 (BLOO)\n",
      " 59위: 가을밤에 든 생각 [ 잔나비 소곡집 l ] - 잔나비\n",
      " 60위: 안녕 [ 호텔 델루나 OST Part.10 ] - 폴킴\n",
      " 61위: 사랑 못해, 남들 쉽게 다 하는 거 [ 사랑 못해, 남들 쉽게 다 하는 거 ] - 먼데이 키즈 (Monday Kiz)\n",
      " 62위: Panorama [ One-reeler / Act IV ] - IZ*ONE (아이즈원)\n",
      " 63위: 고독하구만 (Feat. 수퍼비) (Prod. GroovyRoom) [ 쇼미더머니 9 Semi Final ] - 머쉬베놈 (MUSHVENOM)\n",
      " 64위: 너를 만나 [ 너를 만나 ] - 폴킴\n",
      " 65위: 너의 번호를 누르고 (Prod. 영화처럼) [ 너의 번호를 누르고 ] - #안녕\n",
      " 66위: 소확행 [ 힘든 건 사랑이 아니다 ] - 임창정\n",
      " 67위: Snowman [ Everyday Is Christmas (Deluxe) ] - Sia\n",
      " 68위: Love poem [ Love poem ] - 아이유\n",
      " 69위: 처음처럼 [ CEREMONIA ] - 엠씨더맥스 (M.C the MAX)\n",
      " 70위: What Do I Call You [ What Do I Call You - The 4th Mini Album ] - 태연 (TAEYEON)\n",
      " 71위: 이제 나만 믿어요 [ 내일은 미스터트롯 우승자 특전곡 ] - 임영웅\n",
      " 72위: 우린 어쩌다 헤어진 걸까 [ Hello ] - 허각\n",
      " 73위: 잘할게 [ The Project ] - 이승기\n",
      " 74위: 행복해 [ Happy ] - 송하예\n",
      " 75위: 사랑하게 될 줄 알았어 [ 슬기로운 의사생활 OST Part 11 ] - 전미도\n",
      " 76위: Don't Start Now [ Future Nostalgia ] - Dua Lipa\n",
      " 77위: 여백의 미 (Feat. Jessi, JUSTHIS) (Prod. GroovyRoom) [ 쇼미더머니 9 Final ] - 머쉬베놈 (MUSHVENOM)\n",
      " 78위: 나로 바꾸자 (duet with JYP) [ 나로 바꾸자 (duet with JYP) ] - 비\n",
      " 79위: 12:45 (Stripped) [ 12:45 (Stripped) ] - Etham\n",
      " 80위: 아무노래 [ 아무노래 ] - 지코 (ZICO)\n",
      " 81위: 별을 담은 시 (Ode To The Stars) [ Red Moon : Ode To The Stars ] - 마크툽 (MAKTUB), 이라온\n",
      " 82위: Bad Boy [ Bad Boy ] - 청하, Christopher\n",
      " 83위: Paris In The Rain [ I met you when I was 18. (the playlist) ] - Lauv\n",
      " 84위: Black Mamba [ Black Mamba ] - aespa\n",
      " 85위: 너도 아는 [ 너도 아는 ] - 폴킴\n",
      " 86위: 다시 여기 바닷가 [ 다시 여기 바닷가 ] - 싹쓰리 (유두래곤, 린다G, 비룡)\n",
      " 87위: Maniac [ Maniac ] - Conan Gray\n",
      " 88위: Santa Tell Me [ Santa Tell Me ] - Ariana Grande\n",
      " 89위: 12월의 어느 겨울… [ 12월의 어느 겨울… ] - 윤도 (YoonDo)\n",
      " 90위: ON [ MAP OF THE SOUL : 7 ] - 방탄소년단\n",
      " 91위: All I Want For Christmas Is You [ Merry Christmas (Deluxe Anniversary Edition) ] - Mariah Carey\n",
      " 92위: 밝게 빛나는 별이 되어 비춰줄게 [ 밝게 빛나는 별이 되어 비춰줄게 ] - 송이한\n",
      " 93위: 놓아줘 (with 태연) [ with HER ] - Crush\n",
      " 94위: 적외선 카메라 [ 쇼미더머니 9 Episode 3 ] - 원슈타인\n",
      " 95위: 원해 (Feat. 팔로알토) (Prod. 코드 쿤스트) [ 쇼미더머니 9 Episode 1 ] - 스윙스, 맥대디 (Mckdaddy), Khakii (카키), 래원 (Layone)\n",
      " 96위: For You (Feat. Crush) [ For You ] - 이하이\n",
      " 97위: 미리 메리 크리스마스 (Feat. 천둥 Of MBLAQ) [ Real ] - 아이유\n",
      " 98위: Blue & Grey [ BE ] - 방탄소년단\n",
      " 99위: 가다 (Feat. 사이먼 도미닉, The Quiett) (Prod. SLO) [ 쇼미더머니 9 Final ] - 머쉬베놈 (MUSHVENOM)\n",
      "100위: 내 방을 여행하는 법 [ BE ] - 방탄소년단\n"
     ]
    }
   ],
   "source": [
    "for i in range(RANK):\n",
    "    print('%3d위: %s [ %s ] - %s'%(i+1, title[i], album[i], singer[i]))"
   ]
  },
  {
   "cell_type": "code",
   "execution_count": 1,
   "metadata": {},
   "outputs": [
    {
     "name": "stdout",
     "output_type": "stream",
     "text": [
      "showing info https://raw.githubusercontent.com/nltk/nltk_data/gh-pages/index.xml\n"
     ]
    },
    {
     "data": {
      "text/plain": [
       "True"
      ]
     },
     "execution_count": 1,
     "metadata": {},
     "output_type": "execute_result"
    }
   ],
   "source": [
    "import nltk\n",
    "nltk.download()"
   ]
  },
  {
   "cell_type": "code",
   "execution_count": null,
   "metadata": {},
   "outputs": [],
   "source": []
  }
 ],
 "metadata": {
  "kernelspec": {
   "display_name": "Python 3",
   "language": "python",
   "name": "python3"
  },
  "language_info": {
   "codemirror_mode": {
    "name": "ipython",
    "version": 3
   },
   "file_extension": ".py",
   "mimetype": "text/x-python",
   "name": "python",
   "nbconvert_exporter": "python",
   "pygments_lexer": "ipython3",
   "version": "3.8.5"
  }
 },
 "nbformat": 4,
 "nbformat_minor": 4
}
