{
 "cells": [
  {
   "cell_type": "code",
   "execution_count": null,
   "metadata": {},
   "outputs": [],
   "source": [
    "\n",
    "import time\n",
    "import os\n",
    "import pyexcel as px\n",
    " \n",
    " \n",
    "print(\"Process start\")\n",
    "start_time = time.time()\n",
    " \n",
    "## 폴더명 지정\n",
    "directory = \"test_folder\"\n",
    " \n",
    "## 결과 파일명 지정\n",
    "outfile_name = \"result_combine.xlsx\"\n",
    " \n",
    " \n",
    " \n",
    "input_files=os.listdir(directory)\n",
    " \n",
    "CONTENTS = []\n",
    " \n",
    " \n",
    " \n",
    "for filename in input_files:\n",
    "    if \".xlsx\" not in filename:\n",
    "        continue\n",
    " \n",
    "    data_array=px.get_array(file_name=directory + \"/\" + filename)\n",
    " \n",
    "    header = data_array[0]\n",
    "    data_array = data_array[1:]\n",
    " \n",
    "    if len(CONTENTS) == 0:\n",
    "        CONTENTS.append(header)\n",
    " \n",
    "    CONTENTS += data_array\n",
    " \n",
    "    px.save_as(array=CONTENTS, dest_file_name=outfile_name)\n",
    " \n",
    " \n",
    " \n",
    "print(\"process done\")\n",
    " \n",
    "end_time = time.time()\n",
    " \n",
    "print(\"the job took \" + str(end_time - start_time) + \"seconds.\")"
   ]
  }
 ],
 "metadata": {
  "kernelspec": {
   "display_name": "Python 3",
   "language": "python",
   "name": "python3"
  },
  "language_info": {
   "codemirror_mode": {
    "name": "ipython",
    "version": 3
   },
   "file_extension": ".py",
   "mimetype": "text/x-python",
   "name": "python",
   "nbconvert_exporter": "python",
   "pygments_lexer": "ipython3",
   "version": "3.8.5"
  }
 },
 "nbformat": 4,
 "nbformat_minor": 4
}
